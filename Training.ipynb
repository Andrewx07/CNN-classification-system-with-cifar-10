{
 "cells": [
  {
   "cell_type": "markdown",
   "metadata": {},
   "source": [
    "##Entrenamiento del modelo"
   ]
  },
  {
   "cell_type": "code",
   "execution_count": 1,
   "metadata": {},
   "outputs": [],
   "source": [
    "# Libaries\n",
    "import numpy as np\n",
    "import torchvision.datasets as datasets\n",
    "import torchvision.transforms as transforms\n",
    "import torch\n",
    "import torch.optim as opt\n",
    "from torch.utils.data import DataLoader\n",
    "from torch import nn as nn\n",
    "from MODEL import REDCN1"
   ]
  },
  {
   "cell_type": "markdown",
   "metadata": {},
   "source": [
    "##Activacionde la gpu(si hay una disponible)"
   ]
  },
  {
   "cell_type": "code",
   "execution_count": 2,
   "metadata": {},
   "outputs": [],
   "source": [
    "# GPU activation\n",
    "device = torch.device(\"cuda:0\" if torch.cuda.is_available() else \"cpu\")"
   ]
  },
  {
   "cell_type": "markdown",
   "metadata": {},
   "source": [
    "##Carga de los set de datos"
   ]
  },
  {
   "cell_type": "code",
   "execution_count": 3,
   "metadata": {},
   "outputs": [
    {
     "name": "stdout",
     "output_type": "stream",
     "text": [
      "{'train_dataloader': <torch.utils.data.dataloader.DataLoader object at 0x000001A07E4934D0>, 'test_dataloader': <torch.utils.data.dataloader.DataLoader object at 0x000001A07E4A4650>, 'validation_dataloader': <torch.utils.data.dataloader.DataLoader object at 0x000001A07E4A4B50>, 'classes': ['airplane', 'automobile', 'bird', 'cat', 'deer', 'dog', 'frog', 'horse', 'ship', 'truck']}\n"
     ]
    }
   ],
   "source": [
    "# data load\n",
    "PATH = \"./DATA/DATA.pth\"\n",
    "train = torch.load(PATH)\n",
    "print(train)"
   ]
  },
  {
   "cell_type": "markdown",
   "metadata": {},
   "source": [
    "##Carga de la RED"
   ]
  },
  {
   "cell_type": "code",
   "execution_count": 4,
   "metadata": {},
   "outputs": [
    {
     "name": "stdout",
     "output_type": "stream",
     "text": [
      "REDCN1(\n",
      "  (relu_conv): Sequential(\n",
      "    (0): Conv2d(3, 20, kernel_size=(5, 5), stride=(1, 1))\n",
      "    (1): ReLU()\n",
      "    (2): MaxPool2d(kernel_size=2, stride=2, padding=0, dilation=1, ceil_mode=False)\n",
      "    (3): Conv2d(20, 30, kernel_size=(5, 5), stride=(1, 1))\n",
      "    (4): ReLU()\n",
      "    (5): Conv2d(30, 40, kernel_size=(5, 5), stride=(1, 1))\n",
      "    (6): ReLU()\n",
      "    (7): MaxPool2d(kernel_size=2, stride=2, padding=0, dilation=1, ceil_mode=False)\n",
      "    (8): Flatten(start_dim=1, end_dim=-1)\n",
      "  )\n",
      "  (relu_linear): Sequential(\n",
      "    (0): Linear(in_features=360, out_features=700, bias=True)\n",
      "    (1): SELU()\n",
      "    (2): Linear(in_features=700, out_features=300, bias=True)\n",
      "    (3): SELU()\n",
      "    (4): Linear(in_features=300, out_features=150, bias=True)\n",
      "    (5): SELU()\n",
      "    (6): Linear(in_features=150, out_features=80, bias=True)\n",
      "    (7): SELU()\n",
      "    (8): Linear(in_features=80, out_features=20, bias=True)\n",
      "  )\n",
      ")\n"
     ]
    }
   ],
   "source": [
    "# Model load\n",
    "RED = REDCN1()\n",
    "print(RED)\n",
    "criterion = nn.CrossEntropyLoss()\n",
    "optimizer = opt.SGD(RED.parameters(), lr=0.001, momentum=0.9)"
   ]
  },
  {
   "cell_type": "markdown",
   "metadata": {},
   "source": [
    "##Ciclo de entrenamiento"
   ]
  },
  {
   "cell_type": "code",
   "execution_count": 5,
   "metadata": {},
   "outputs": [
    {
     "name": "stdout",
     "output_type": "stream",
     "text": [
      "[Para la epoca 1 ] loss: 1.642210458651185\n",
      "[Para la epoca 1 ] val_loss: 1.322207680940628\n",
      "[Para la epoca 2 ] loss: 1.2438485040061176\n",
      "[Para la epoca 2 ] val_loss: 1.0966651159003378\n",
      "[Para la epoca 3 ] loss: 1.0793774187099188\n",
      "[Para la epoca 3 ] val_loss: 0.9709988304153084\n",
      "[Para la epoca 4 ] loss: 0.9756159084467217\n",
      "[Para la epoca 4 ] val_loss: 0.8481776649467647\n",
      "[Para la epoca 5 ] loss: 0.8915466266402975\n",
      "[Para la epoca 5 ] val_loss: 0.7657714611440897\n",
      "[Para la epoca 6 ] loss: 0.8222235562787857\n",
      "[Para la epoca 6 ] val_loss: 0.738847901029978\n",
      "[Para la epoca 7 ] loss: 0.7613086444426095\n",
      "[Para la epoca 7 ] val_loss: 0.6477920900890604\n",
      "[Para la epoca 8 ] loss: 0.7079946303341887\n",
      "[Para la epoca 8 ] val_loss: 0.6707857513458002\n",
      "[Para la epoca 9 ] loss: 0.6515025270202197\n",
      "[Para la epoca 9 ] val_loss: 0.5344303504514973\n",
      "[Para la epoca 10 ] loss: 0.6039271916635814\n",
      "[Para la epoca 10 ] val_loss: 0.49589015344984366\n"
     ]
    }
   ],
   "source": [
    "# training cycle\n",
    "graphic1 = []\n",
    "graphic2 = []\n",
    "EPOCH = []\n",
    "for epoch in range(10):\n",
    "    train_loss = 0.0\n",
    "    valid_loss = 0.0\n",
    "    for inputs, labels in train[\"train_dataloader\"]:\n",
    "        optimizer.zero_grad()\n",
    "        outputs = RED(inputs)\n",
    "        loss = criterion(outputs, labels)\n",
    "        loss.backward()\n",
    "        optimizer.step()\n",
    "        train_loss += loss.item()\n",
    "\n",
    "    RED.eval()\n",
    "    for inputs, labels in train[\"validation_dataloader\"]:\n",
    "        outputs = RED(inputs)\n",
    "        loss = criterion(outputs, labels)\n",
    "        valid_loss += loss.item()\n",
    "\n",
    "    train_loss = train_loss / len(train[\"train_dataloader\"])\n",
    "    print(\"[Para la epoca\", epoch + 1, \"] loss:\", train_loss)\n",
    "    graphic1.append(train_loss)\n",
    "\n",
    "    valid_loss = valid_loss / len(train[\"validation_dataloader\"])\n",
    "    print(\"[Para la epoca\", epoch + 1, \"] val_loss:\", valid_loss)\n",
    "    graphic2.append(valid_loss)\n",
    "\n",
    "    EPOCH.append(float(epoch))"
   ]
  },
  {
   "cell_type": "markdown",
   "metadata": {},
   "source": [
    "##Guardado de la Red entrenada"
   ]
  },
  {
   "cell_type": "code",
   "execution_count": 6,
   "metadata": {},
   "outputs": [],
   "source": [
    "# Saved Model\n",
    "PATH = \"./trained_model/RED_entrenada.pth\"\n",
    "torch.save(\n",
    "    {\n",
    "        \"epoch\": EPOCH,\n",
    "        \"model_state_dict\": RED.state_dict(),\n",
    "        \"optimizer_state_dict\": optimizer.state_dict(),\n",
    "        \"loss\": loss,\n",
    "        \"loss_epoch\": graphic1,\n",
    "        \"loss_epoch_validation\": graphic2,\n",
    "    },\n",
    "    PATH,\n",
    ")"
   ]
  }
 ],
 "metadata": {
  "kernelspec": {
   "display_name": "base",
   "language": "python",
   "name": "python3"
  },
  "language_info": {
   "codemirror_mode": {
    "name": "ipython",
    "version": 3
   },
   "file_extension": ".py",
   "mimetype": "text/x-python",
   "name": "python",
   "nbconvert_exporter": "python",
   "pygments_lexer": "ipython3",
   "version": "3.11.4"
  }
 },
 "nbformat": 4,
 "nbformat_minor": 2
}
